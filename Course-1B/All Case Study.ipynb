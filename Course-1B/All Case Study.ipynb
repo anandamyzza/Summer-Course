{
 "cells": [
  {
   "cell_type": "markdown",
   "id": "a0402ac7",
   "metadata": {},
   "source": [
    "# Summer Course Group 1\n",
    "\n",
    "### Members of the group:\n",
    "- Syahraini Revita Puri\n",
    "- Fikry Idham Dwiyana (Group Leader)\n",
    "- Abbas Ahmad\n",
    "- Ananda Myzza Marhelio\n",
    "- Indah Resti Fauzi\n",
    "- Naeem Ur Rahman\n",
    "- Imam Chalish Rafidhul Haque"
   ]
  },
  {
   "cell_type": "markdown",
   "id": "5b08b2eb",
   "metadata": {},
   "source": [
    "## Case Study 1: Miles Per Gallon"
   ]
  },
  {
   "cell_type": "code",
   "execution_count": 11,
   "id": "84a52984",
   "metadata": {},
   "outputs": [],
   "source": [
    "def assignment_1():\n",
    "    \n",
    "    # Variable declaration and initialization.\n",
    "    total_miles = 0.0\n",
    "    total_gallons = 0.0\n",
    "    \n",
    "    # Looping input and calculation\n",
    "    while True:\n",
    "        # Asking for user's input\n",
    "        gallons = float(input(\"Enter the gallons used (-1 to end): \"))\n",
    "        if gallons == -1: # \"IF\" for stopping the looping or user's stopping the input\n",
    "            break\n",
    "        miles = float(input(\"Enter the miles driven: \"))\n",
    "        \n",
    "        # Miles/gallons calculation\n",
    "        mpg = miles / gallons\n",
    "        print(f\"The miles/gallon for this tank was {mpg:.6f}\")\n",
    "        \n",
    "        # Calculation of total miles and gallons that happen for every looping.\n",
    "        total_miles += miles\n",
    "        total_gallons += gallons\n",
    "    \n",
    "    # If the looping stop, the overall average value will be calculate.\n",
    "    combined_mpg = total_miles / total_gallons\n",
    "    print(f\"The overall average miles/gallon was {combined_mpg:.6f}\")"
   ]
  },
  {
   "cell_type": "code",
   "execution_count": 12,
   "id": "7a2283cb",
   "metadata": {},
   "outputs": [
    {
     "name": "stdout",
     "output_type": "stream",
     "text": [
      "Enter the gallons used (-1 to end): 12.8\n",
      "Enter the miles driven: 287\n",
      "The miles/gallon for this tank was 22.421875\n",
      "Enter the gallons used (-1 to end): 10.3\n",
      "Enter the miles driven: 200\n",
      "The miles/gallon for this tank was 19.417476\n",
      "Enter the gallons used (-1 to end): 5\n",
      "Enter the miles driven: 120\n",
      "The miles/gallon for this tank was 24.000000\n",
      "Enter the gallons used (-1 to end): -1\n",
      "The overall average miles/gallon was 21.601423\n"
     ]
    }
   ],
   "source": [
    "# Call the function.\n",
    "assignment_1()"
   ]
  },
  {
   "cell_type": "markdown",
   "id": "7fa284b7",
   "metadata": {},
   "source": [
    "## Case Study 2: A Game of Chance - Crap"
   ]
  },
  {
   "cell_type": "code",
   "execution_count": 7,
   "id": "af8f48d8",
   "metadata": {},
   "outputs": [],
   "source": [
    "import random\n",
    "\n",
    "def assignment_2():\n",
    "    # Variable declaration and roll the number using random for dice.\n",
    "    dice_1 = random.randint(1, 6)\n",
    "    dice_2 = random.randint(1, 6)\n",
    "    \n",
    "    # Calculate the sum of the dice and display it.\n",
    "    sum = dice_1 + dice_2\n",
    "    print(f\"You rolled {dice_1} + {dice_2} = {sum}\")\n",
    "    \n",
    "    # CRAPS simulation\n",
    "    if sum == 7 or sum == 11:  # If the sum is 7 or 11, player wins.\n",
    "        print(\"HOUSE! You WIN!\")\n",
    "        return\n",
    "    elif sum in (2, 3, 12):  # If the sum is 2, 3, or 12, player loses.\n",
    "        print(\"Craps. You lose.\")\n",
    "    else:  # Otherwise, the game continues.\n",
    "        # Save the current sum in a new variable named \"point\" and display it.\n",
    "        point = sum\n",
    "        print(f\"Your point is {point}\")\n",
    "        \n",
    "        # Looping to continue the game until player either makes their point or rolls a 7.\n",
    "        while True:\n",
    "            # Roll the dice again.\n",
    "            dice_1 = random.randint(1, 6)\n",
    "            dice_2 = random.randint(1, 6)\n",
    "            sum = dice_1 + dice_2\n",
    "            \n",
    "            # Display the result of the new roll.\n",
    "            print(f\"You rolled {dice_1} + {dice_2} = {sum}\")\n",
    "            \n",
    "            # Check if the new roll matches the point.\n",
    "            if sum == point:\n",
    "                # If the player rolls the point again, they win.\n",
    "                print(\"Congratulations! You made your point.\")\n",
    "                return\n",
    "            elif sum == 7:\n",
    "                # If the player rolls a 7, they lose.\n",
    "                print(\"You rolled a 7, you lose.\")\n",
    "                return"
   ]
  },
  {
   "cell_type": "code",
   "execution_count": 10,
   "id": "9ca0126e",
   "metadata": {},
   "outputs": [
    {
     "name": "stdout",
     "output_type": "stream",
     "text": [
      "You rolled 1 + 4 = 5\n",
      "Your point is 5\n",
      "You rolled 3 + 5 = 8\n",
      "You rolled 4 + 3 = 7\n",
      "You rolled a 7, you lose.\n"
     ]
    }
   ],
   "source": [
    "# Call the function to play the game.\n",
    "assignment_2()"
   ]
  },
  {
   "cell_type": "markdown",
   "id": "58c38eed",
   "metadata": {},
   "source": [
    "## Case Study 3: COVID 19 Infection Statistic"
   ]
  },
  {
   "cell_type": "code",
   "execution_count": 6,
   "id": "f9043a04",
   "metadata": {},
   "outputs": [
    {
     "name": "stdout",
     "output_type": "stream",
     "text": [
      "Based on the COVID-19 infection data for the first 20 days, the following statistics were obtained:\n",
      "Minimum: 174\n",
      "Maximum: 1704\n",
      "Range: 1530\n",
      "Mean: 845.7\n",
      "Median: 704.5\n",
      "Variance: 253620.74736842106\n",
      "Standard Deviation: 503.60773164082883\n"
     ]
    }
   ],
   "source": [
    "import statistics\n",
    "\n",
    "#  COVID-19 infection data for the first 20 days\n",
    "infection_data = [174, 335, 278, 214, 422, 513, 737, 672, 489, 412, 1301, 1105, 1123, 1376, 1502, 894, 665, 1704, 1656, 1342]\n",
    "\n",
    "# Calculating the requested statistics\n",
    "minimum = min(infection_data)\n",
    "maximum = max(infection_data)\n",
    "data_range = maximum - minimum\n",
    "mean = statistics.mean(infection_data)\n",
    "median = statistics.median(infection_data)\n",
    "variance = statistics.variance(infection_data)\n",
    "standard_deviation = statistics.stdev(infection_data)\n",
    "\n",
    "# Display results\n",
    "print(\"Based on the COVID-19 infection data for the first 20 days, the following statistics were obtained:\")\n",
    "print(f\"Minimum: {minimum}\")\n",
    "print(f\"Maximum: {maximum}\")\n",
    "print(f\"Range: {data_range}\")\n",
    "print(f\"Mean: {mean}\")\n",
    "print(f\"Median: {median}\")\n",
    "print(f\"Variance: {variance}\")\n",
    "print(f\"Standard Deviation: {standard_deviation}\")"
   ]
  }
 ],
 "metadata": {
  "kernelspec": {
   "display_name": "Python 3 (ipykernel)",
   "language": "python",
   "name": "python3"
  },
  "language_info": {
   "codemirror_mode": {
    "name": "ipython",
    "version": 3
   },
   "file_extension": ".py",
   "mimetype": "text/x-python",
   "name": "python",
   "nbconvert_exporter": "python",
   "pygments_lexer": "ipython3",
   "version": "3.9.12"
  }
 },
 "nbformat": 4,
 "nbformat_minor": 5
}
